{
 "cells": [
  {
   "cell_type": "markdown",
   "metadata": {},
   "source": [
    "# 百発百中の砲x1 vs 百発一中の砲x100"
   ]
  },
  {
   "cell_type": "markdown",
   "metadata": {},
   "source": [
    "百発百中の砲が単位時間あたり一発，敵陣に着弾させることができる能力を持つとする．すると，戦闘中($[0, T]$)の着弾系列$I$は$I=\\{t^{(1)}, t^{(2)},  \\dots, t^{(T)} \\mid t^{(i)} - t^{(i-1)} = 1, i = 2, 3, \\dots, T\\}$とかける．また，時刻$t$での着弾確率密度関数は\n",
    "$$\n",
    "f(t) = \\sum_{t^{(i)} \\in I} \\delta\\left(t-t^{(i)}\\right)\n",
    "$$\n",
    "とかける．（平均）着弾回数は$T$回．分散は$0$\n",
    "$\\because$ 平均は\n",
    "$$\n",
    "f(t) = \\lim_{T\\rightarrow \\infty}\\int_{-T}^T tf(t) dt = \\lim_{T\\rightarrow \\infty} \\frac{T}{T} = 1\n",
    "$$\n",
    "また分散は"
   ]
  },
  {
   "cell_type": "code",
   "execution_count": null,
   "metadata": {
    "collapsed": true
   },
   "outputs": [],
   "source": []
  },
  {
   "cell_type": "markdown",
   "metadata": {},
   "source": [
    "百発$\\lambda$中の砲が単位時間あたり平均で$\\lambda$発敵陣に着弾させる能力を持つとする．また，着弾の仕方として下記のような仮定を置く\n",
    "* __定常性__: 平均着弾回数は時刻に依存せず一定\n",
    "* __独立性__: 各微小時間ビン$\\Delta$ごとの着弾確率は，独立である．\n",
    "* __希少性__: １つの微小時間ビン$\\Delta$で2回以上の着弾の着弾は存在しない．"
   ]
  },
  {
   "cell_type": "markdown",
   "metadata": {},
   "source": [
    "このとき，$T$時間の間にこの大砲が$x$発着弾させる確率$f(x\\mid \\lambda, T)$は二項分布に従う\n",
    "$$\n",
    "f(x\\mid \\lambda, T) = _TC_x \\lambda^x (1-p)^{T-x}\n",
    "$$\n",
    "上記修正予定"
   ]
  },
  {
   "cell_type": "markdown",
   "metadata": {},
   "source": [
    "このとき，微小区間$[t, t+\\Delta)$での着弾確率は次のように考えることができる．"
   ]
  },
  {
   "cell_type": "markdown",
   "metadata": {},
   "source": [
    "$$\n",
    "P(\\text{one impact in }[t, t+\\Delta)) = \\lambda \\Delta + o(\\Delta) \\\\\n",
    "P(\\text{more than one impact in } [t, t+\\Delta)) = o(\\Delta) \\\\\n",
    "P(\\text{no impact in } [t, t+\\Delta)) = 1 - \\lambda \\Delta + o(\\Delta)\n",
    "$$"
   ]
  },
  {
   "cell_type": "markdown",
   "metadata": {},
   "source": [
    "$$\n",
    "P(N_\\Delta = n) = \\frac{(\\lambda\\Delta)^n}{n!}e^{-\\lambda \\Delta} \n",
    "$$"
   ]
  },
  {
   "cell_type": "code",
   "execution_count": null,
   "metadata": {
    "collapsed": true
   },
   "outputs": [],
   "source": []
  }
 ],
 "metadata": {
  "kernelspec": {
   "display_name": "Julia 0.6.0",
   "language": "julia",
   "name": "julia-0.6"
  },
  "language_info": {
   "file_extension": ".jl",
   "mimetype": "application/julia",
   "name": "julia",
   "version": "0.6.0"
  },
  "nav_menu": {},
  "toc": {
   "navigate_menu": true,
   "number_sections": true,
   "sideBar": true,
   "threshold": 6,
   "toc_cell": false,
   "toc_section_display": "block",
   "toc_window_display": false
  }
 },
 "nbformat": 4,
 "nbformat_minor": 2
}
