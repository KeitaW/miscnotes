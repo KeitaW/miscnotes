{
 "cells": [
  {
   "cell_type": "markdown",
   "metadata": {},
   "source": [
    "# [機械学習とPythonとの出会い](http://www.kamishima.net/mlmpyja/) をちゃんとよむ\n",
    "numpy初心者には何も言わずこれを勧めておけばいいような気がする"
   ]
  },
  {
   "cell_type": "code",
   "execution_count": 2,
   "metadata": {
    "collapsed": true
   },
   "outputs": [],
   "source": [
    "import numpy as np\n",
    "import scipy as sp\n",
    "import os, sys\n",
    "import matplotlib\n",
    "matplotlib.rcParams['svg.fonttype'] = 'none'\n",
    "import matplotlib.pyplot as plt\n",
    "import seaborn as sns\n",
    "sns.set_palette(\"colorblind\")\n",
    "sns.set_context(\"paper\", font_scale=2)\n",
    "sns.set_style(\"white\")\n",
    "%matplotlib inline"
   ]
  },
  {
   "cell_type": "markdown",
   "metadata": {},
   "source": [
    "## 単純ベイズ：入門編"
   ]
  },
  {
   "cell_type": "markdown",
   "metadata": {},
   "source": [
    "### 型について"
   ]
  },
  {
   "cell_type": "code",
   "execution_count": 3,
   "metadata": {
    "collapsed": false
   },
   "outputs": [
    {
     "data": {
      "text/plain": [
       "dtype('int64')"
      ]
     },
     "execution_count": 3,
     "metadata": {},
     "output_type": "execute_result"
    }
   ],
   "source": [
    "a = np.array([1, 2, 3])\n",
    "a.dtype"
   ]
  },
  {
   "cell_type": "code",
   "execution_count": 4,
   "metadata": {
    "collapsed": false
   },
   "outputs": [
    {
     "data": {
      "text/plain": [
       "dtype('float64')"
      ]
     },
     "execution_count": 4,
     "metadata": {},
     "output_type": "execute_result"
    }
   ],
   "source": [
    "a = np.array([1, 2, 3], dtype=float)\n",
    "a.dtype"
   ]
  },
  {
   "cell_type": "code",
   "execution_count": 7,
   "metadata": {
    "collapsed": false
   },
   "outputs": [
    {
     "data": {
      "text/plain": [
       "(dtype('complex128'), array([ 1.+0.j,  2.+0.j,  3.+0.j]))"
      ]
     },
     "execution_count": 7,
     "metadata": {},
     "output_type": "execute_result"
    }
   ],
   "source": [
    "a = np.array(a, dtype=complex)\n",
    "a.dtype, a"
   ]
  },
  {
   "cell_type": "code",
   "execution_count": 8,
   "metadata": {
    "collapsed": false
   },
   "outputs": [
    {
     "name": "stderr",
     "output_type": "stream",
     "text": [
      "/Users/kei/.pyenv/versions/anaconda3-4.0.0/lib/python3.5/site-packages/ipykernel/__main__.py:1: ComplexWarning: Casting complex values to real discards the imaginary part\n",
      "  if __name__ == '__main__':\n"
     ]
    },
    {
     "data": {
      "text/plain": [
       "(dtype('float64'), array([ 1.,  2.,  3.]))"
      ]
     },
     "execution_count": 8,
     "metadata": {},
     "output_type": "execute_result"
    }
   ],
   "source": [
    "a = a.astype(float)\n",
    "a.dtype, a"
   ]
  },
  {
   "cell_type": "markdown",
   "metadata": {},
   "source": [
    "## 単純ベイズ"
   ]
  },
  {
   "cell_type": "markdown",
   "metadata": {},
   "source": [
    "学習データ$\\mathcal{D}$は\n",
    "$$\\mathcal{D}=\\{\\mathbf{x}_i, y_i\\},\\,i=1,\\ldots,N$$\n",
    "と表される．"
   ]
  },
  {
   "cell_type": "markdown",
   "metadata": {},
   "source": [
    "$$\n",
    "\\text{特徴量}: \\mathbf{x_i}  = (x_{i1}, x_{i2}, \\dots, x_{iK})\n",
    "$$\n",
    "where $x_{ij} \\in \\{F_1, F_2, \\dots, F_j\\}$.\n",
    "\n",
    "$$\\text{ラベル}: y_i \\in \\{C_1, C_2, \\dots, C_n\\}$$"
   ]
  },
  {
   "cell_type": "markdown",
   "metadata": {},
   "source": [
    "$$\n",
    "X = \\begin{pmatrix}\n",
    "\\mathbf{x}_1 \\\\\n",
    "\\mathbf{x}_2 \\\\\n",
    "\\dots \\\\\n",
    "\\mathbf{x}_N \n",
    "\\end{pmatrix}\n",
    "$$\n",
    "$$\n",
    "\\mathbf{y} = \\begin{pmatrix}\n",
    "\\mathbf{y}_1 \\\\\n",
    "\\mathbf{y}_2 \\\\\n",
    "\\dots \\\\\n",
    "\\mathbf{y}_N\n",
    "\\end{pmatrix}\n",
    "$$"
   ]
  },
  {
   "cell_type": "markdown",
   "metadata": {},
   "source": [
    "$$\n",
    "\\Pr[\\mathbf{X}, Y] = \\Pr[Y] \\prod_{j=1}^K \\Pr[X_j | Y]\n",
    "$$"
   ]
  },
  {
   "cell_type": "markdown",
   "metadata": {},
   "source": [
    "$$\n",
    "\\Pr[\\mathbf{x}_i, y_i] = p(y_i)p(x_{i1}, x_{i2}, \\dots, x_{iK}|y_i) \\\\\n",
    "= p(y_i)p(x_{i1}|y_i)p(x_{i2}, \\dots, x_{iK}|y_i, x_{i1}) \\\\\n",
    "= p(y_i)p(x_{i1}|y_i)p(x_{i2}|y_i, x_{i1})p(x_{i3}, \\dots, x_{iK}|y_i, x_{i1}) \\quad  \\text{単純ベイズの仮定により} \\\\\n",
    "= p(y_i)\\prod_{j=1}^K p(x_{j1} | y_j) \\\\\n",
    "= \\Pr[Y] \\prod_{j=1}^K \\Pr[X_j | Y]\n",
    "$$"
   ]
  },
  {
   "cell_type": "markdown",
   "metadata": {},
   "source": [
    "ここで$Pr[Y]$と$Pr[X_j|Y]$がカテゴリ分布（離散分布）である場合\n",
    "\n",
    "\\begin{split}\\Pr[y],&\\quad y=1, \\ldots, C\\\\\n",
    "\\Pr[x_j | y],&\\quad y=1,\\ldots,C,\\;x_j=1,\\ldots,F_j,\\; j=1,\\ldots,K\\end{split}\n"
   ]
  },
  {
   "cell_type": "markdown",
   "metadata": {},
   "source": [
    "以下簡単のため\n",
    "$$\n",
    "\\text{特徴量}: \\mathbf{x_i}  = (x_{i1}, x_{i2}, \\dots, x_{iK})\n",
    "$$\n",
    "where $x_{ij} \\in \\{F_1, F_2\\}$.\n",
    "\n",
    "$$\\text{ラベル}: y_i \\in \\{C_1, C_2\\}$$\n",
    "とする．"
   ]
  },
  {
   "cell_type": "markdown",
   "metadata": {},
   "source": [
    "ここれにより$Pr[Y]$と$Pr[X_j|Y]$はベルヌーイ分布に従う．"
   ]
  },
  {
   "cell_type": "markdown",
   "metadata": {},
   "source": [
    "$\\mathcal{D}=\\{\\mathbf{x}_i, y_i\\},\\,i=1,\\ldots,N$ に対する対数尤度は\n",
    "\n",
    "$$\n",
    "\\mathcal{L}(\\mathcal{D}; \\{\\Pr[x_j | y]\\}) = \\sum_{(\\mathbf{x}_i, y_i)\\in\\mathcal{D}} \\ln\\Pr[\\mathbf{x}_i | y_i]\n",
    "$$"
   ]
  },
  {
   "cell_type": "markdown",
   "metadata": {},
   "source": [
    "入力ベクトル$\\mathbf{x}^{new}$が与えられたときにクラス事後確率を最大にするクラスは"
   ]
  },
  {
   "cell_type": "markdown",
   "metadata": {},
   "source": [
    "\\begin{split}\\hat{y} &= \\arg\\max_y \\Pr[y|\\mathbf{x}^\\mathrm{new}] \\\\\n",
    "        &= \\arg\\max_y \\frac{\\Pr[y]\\Pr[\\mathbf{x}^\\mathrm{new}|y]}{\\sum_{y'} \\Pr[y']\\Pr[\\mathbf{x}^\\mathrm{new} | y']} \\\\\n",
    "        &= \\arg\\max_y \\Pr[y]\\Pr[\\mathbf{x}^\\mathrm{new}|y] \\\\\n",
    "        &= \\arg\\max_y \\Big(\\Pr[y]\n",
    "           \\prod_j \\Pr[x_j^\\mathrm{new}|y]\\Big) \\\\\n",
    "        &= \\arg\\max_y \\Big(\\log\\Pr[y] +\n",
    "           \\sum_j \\log\\Pr[x_j^\\mathrm{new}|y]\\Big)\\end{split}"
   ]
  },
  {
   "cell_type": "markdown",
   "metadata": {},
   "source": [
    "ここで\n",
    "$$\n",
    "\\Pr[y]=\\frac{N[y_i=y]}{N},\\quad y\\in\\{0,1\\}\n",
    "$$\n",
    "\n",
    "$$\n",
    "\\Pr[x_j | y]=\\frac{N[x_{ij}=x_j, y_i=y]}{N[y_i=y]},\n",
    "\\quad y\\in\\{0,1\\},\\;x_j\\in\\{0,1\\},\\;j=1,\\ldots,K\n",
    "$$"
   ]
  },
  {
   "cell_type": "markdown",
   "metadata": {},
   "source": [
    "### 実装"
   ]
  },
  {
   "cell_type": "code",
   "execution_count": 12,
   "metadata": {
    "collapsed": false
   },
   "outputs": [
    {
     "ename": "AssertionError",
     "evalue": "hum",
     "output_type": "error",
     "traceback": [
      "\u001b[0;31m---------------------------------------------------------------------------\u001b[0m",
      "\u001b[0;31mAssertionError\u001b[0m                            Traceback (most recent call last)",
      "\u001b[0;32m<ipython-input-12-f7db8538b519>\u001b[0m in \u001b[0;36m<module>\u001b[0;34m()\u001b[0m\n\u001b[0;32m----> 1\u001b[0;31m \u001b[0;32massert\u001b[0m \u001b[0;36m1\u001b[0m \u001b[0;34m==\u001b[0m \u001b[0;36m2\u001b[0m\u001b[0;34m,\u001b[0m \u001b[0;34m\"hum\"\u001b[0m\u001b[0;34m\u001b[0m\u001b[0m\n\u001b[0m",
      "\u001b[0;31mAssertionError\u001b[0m: hum"
     ]
    }
   ],
   "source": [
    "assert 1 == 2, \"hum\""
   ]
  },
  {
   "cell_type": "code",
   "execution_count": 15,
   "metadata": {
    "collapsed": false
   },
   "outputs": [],
   "source": [
    "a = np.zeros((2, 2))"
   ]
  },
  {
   "cell_type": "code",
   "execution_count": 17,
   "metadata": {
    "collapsed": true
   },
   "outputs": [],
   "source": [
    "class NaiveBayes1(object):\n",
    "    \"\"\"\n",
    "    Naive Bayes class (1)\n",
    "    Attributes\n",
    "    ----------\n",
    "    `pY_` : array_like, shape=(n_classes), dtype=float\n",
    "        pmf of a class\n",
    "    `pXgY_` : array_like, shape(n_features, n_classes, n_fvalues), dtype=float\n",
    "        pmf of feature values given a class\n",
    "    \"\"\"\n",
    "\n",
    "    def __init__(self):\n",
    "        self.pY_ = None\n",
    "        self.pXgY_ = None\n",
    "\n",
    "    def fit(self, X, y):\n",
    "        \"\"\"\n",
    "        Fitting model\n",
    "        Parameters\n",
    "        ----------\n",
    "        X : array_like, shape=(n_samples, n_features), dtype=int\n",
    "            feature values of training samples\n",
    "        y : array_like, shape=(n_samples), dtype=int\n",
    "            class labels of training samples\n",
    "        \"\"\"\n",
    "\n",
    "        # constants\n",
    "        n_samples = X.shape[0]\n",
    "        n_features = X.shape[1]\n",
    "        n_classes = 2     # classの取りうる値の数\n",
    "        n_fvalues = 2     # featureの取りうる値の数\n",
    "\n",
    "        # check the size of y\n",
    "        if n_samples != len(y):\n",
    "            raise ValueError('Mismatched number of samples.')\n",
    "\n",
    "        # count up n[yi=y]\n",
    "        nY = np.zeros(n_classes, dtype=int)\n",
    "        for i in range(n_samples):\n",
    "            nY[y[i]] += 1\n",
    "\n",
    "        # calc pY_\n",
    "        self.pY_ = np.empty(n_classes, dtype=float)\n",
    "        for i in range(n_classes):\n",
    "            self.pY_[i] = nY[i] / n_samples\n",
    "\n",
    "        # count up n[x_ij=xj, yi=y]\n",
    "        nXY = np.zeros((n_features, n_fvalues, n_classes), dtype=int)\n",
    "        for i in range(n_samples):\n",
    "            for j in range(n_features):\n",
    "                # j(j=1, ..., n_features)番目の特徴がsum_i X[i, j] = xj(xj=0 or 1)かつクラスラベルがyi(yi=0 or 1)である個数を数える\n",
    "                nXY[j, X[i, j], y[i]] += 1\n",
    "\n",
    "        # calc pXgY_\n",
    "        self.pXgY_ = np.empty((n_features, n_fvalues, n_classes),\n",
    "                              dtype=float)\n",
    "        for j in range(n_features):\n",
    "            for xi in range(n_fvalues):\n",
    "                for yi in range(n_classes):\n",
    "                    self.pXgY_[j, xi, yi] = nXY[j, xi, yi] / nY[yi]\n",
    "\n",
    "    def predict(self, X):\n",
    "        \"\"\"\n",
    "        Predict class\n",
    "        Parameters\n",
    "        ----------\n",
    "        X : array_like, shape=(n_samples, n_features), dtype=int\n",
    "            feature values of unseen samples\n",
    "        Returns\n",
    "        -------\n",
    "        y : array_like, shape=(n_samples), dtype=int\n",
    "            predicted class labels\n",
    "        \"\"\"\n",
    "\n",
    "        # constants\n",
    "        n_samples = X.shape[0]\n",
    "        n_features = X.shape[1]\n",
    "\n",
    "        # memory for return values\n",
    "        y = np.empty(n_samples, dtype=int)\n",
    "\n",
    "        # for each feature in X\n",
    "        for i, xi in enumerate(X):\n",
    "\n",
    "            # calc joint probability\n",
    "            logpXY = (np.log(self.pY_) +\n",
    "                      np.sum(np.log(self.pXgY_[np.arange(n_features), xi, :]),\n",
    "                            axis=0))\n",
    "\n",
    "            # predict class\n",
    "            y[i] = np.argmax(logpXY)\n",
    "\n",
    "        return y"
   ]
  },
  {
   "cell_type": "code",
   "execution_count": null,
   "metadata": {
    "collapsed": true
   },
   "outputs": [],
   "source": []
  }
 ],
 "metadata": {
  "kernelspec": {
   "display_name": "Python 3",
   "language": "python",
   "name": "python3"
  },
  "language_info": {
   "codemirror_mode": {
    "name": "ipython",
    "version": 3
   },
   "file_extension": ".py",
   "mimetype": "text/x-python",
   "name": "python",
   "nbconvert_exporter": "python",
   "pygments_lexer": "ipython3",
   "version": "3.5.2"
  },
  "toc": {
   "nav_menu": {
    "height": "105px",
    "width": "252px"
   },
   "navigate_menu": true,
   "number_sections": true,
   "sideBar": true,
   "threshold": 4,
   "toc_cell": false,
   "toc_section_display": "block",
   "toc_window_display": false
  }
 },
 "nbformat": 4,
 "nbformat_minor": 2
}
