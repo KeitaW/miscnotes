{
 "cells": [
  {
   "cell_type": "markdown",
   "metadata": {},
   "source": [
    "[This notebook's content is based on here.](http://kogolab.chillout.jp/elearn/hamburger/chap3/sec1.html)"
   ]
  },
  {
   "cell_type": "code",
   "execution_count": 2,
   "metadata": {
    "collapsed": false
   },
   "outputs": [],
   "source": [
    "using PyCall\n",
    "using PyPlot\n",
    "using Distributions\n",
    "@pyimport seaborn as sns\n",
    "sns.set_style(\"whitegrid\")\n",
    "sns.set_style(Dict(\"grid.linestyle\" => \"--\"))"
   ]
  },
  {
   "cell_type": "markdown",
   "metadata": {
    "collapsed": true
   },
   "source": [
    "| お店/メニュ | ポテト  | チキン | 合計|\n",
    "|-------------|---------|--------|-----|\n",
    "| ワクワク | 435 | 165 | 600|\n",
    "| もぐもぐ | 265  | 135| 400|\n",
    "| 合計 | 700  | 300| 1000|"
   ]
  },
  {
   "cell_type": "markdown",
   "metadata": {},
   "source": [
    "ワクワクバーガーでのフライドチキンが，もぐもぐバーガーのチキンに比べて売れていないか否かを調べる．"
   ]
  },
  {
   "cell_type": "markdown",
   "metadata": {},
   "source": [
    "**帰無仮説: チキンとポテトの売り上げの割合に関して、モグモグとワクワクの間に差はない**"
   ]
  },
  {
   "cell_type": "markdown",
   "metadata": {},
   "source": [
    "両店舗でポテトとチキンが同じ割合で売れるとした時の個数を計算する\n",
    "\n",
    "| お店/メニュ | ポテト  | チキン | 合計|\n",
    "|-------------|---------|--------|-----|\n",
    "| ワクワク | 420 | 180 | 600|\n",
    "| もぐもぐ | 280  | 120| 400|\n",
    "| 合計 | 700  | 300| 1000|\n",
    "これは帰無仮説が成立した場合に期待される度数なのでこれを**期待度数**という\n",
    "\n",
    "もとのデータである下表の各値は**観測度数**\n",
    "\n",
    "| お店/メニュ | ポテト  | チキン | 合計|\n",
    "|-------------|---------|--------|-----|\n",
    "| ワクワク | 435 | 165 | 600|\n",
    "| もぐもぐ | 265  | 135| 400|\n",
    "| 合計 | 700  | 300| 1000|"
   ]
  },
  {
   "cell_type": "markdown",
   "metadata": {},
   "source": [
    "2つのテーブルを比較するとわかること\n",
    "* ワクワクではポテトの観測度数 > 期待度数 チキン観測度数 < 期待度数\n",
    "* もぐもぐでは逆にポテトの観測度数 < 期待度数 チキン観測度数 > 期待度数"
   ]
  },
  {
   "cell_type": "markdown",
   "metadata": {},
   "source": [
    "両者ともに観測度数は期待度数からずれている，このズレを定量的に評価する．"
   ]
  },
  {
   "cell_type": "markdown",
   "metadata": {},
   "source": [
    "ズレの評価値として以下のものを考える\n",
    "\n",
    "(観測度数 - 期待度数)^2の総和"
   ]
  },
  {
   "cell_type": "markdown",
   "metadata": {},
   "source": [
    "しかしこれでは観測度数，期待度数を定数倍した際にその分だけズレを不当に大きく評価してしまうことになる．\n",
    "そこで\n",
    "$$\n",
    "\\chi^2 = \\sum \\frac{(\\text{観測度数} - \\text{期待度数})^2}{期待度数}\n",
    "$$"
   ]
  },
  {
   "cell_type": "markdown",
   "metadata": {},
   "source": [
    "この式から\n",
    "* 期待値と観測度数が完全に一致すればカイ二乗値はゼロ\n",
    "* 逆にズレが大きくなればなるほどカイ二乗値も大きくなる\n",
    "事がわかる"
   ]
  },
  {
   "cell_type": "markdown",
   "metadata": {},
   "source": [
    "実際に計算してみると"
   ]
  },
  {
   "cell_type": "code",
   "execution_count": 3,
   "metadata": {
    "collapsed": false
   },
   "outputs": [
    {
     "data": {
      "text/plain": [
       "2x2 Array{Int64,2}:\n",
       " 420  180\n",
       " 280  120"
      ]
     },
     "execution_count": 3,
     "metadata": {},
     "output_type": "execute_result"
    }
   ],
   "source": [
    "observed = [435 165; 265 135]\n",
    "expected = [420 180; 280 120]"
   ]
  },
  {
   "cell_type": "code",
   "execution_count": 4,
   "metadata": {
    "collapsed": false
   },
   "outputs": [
    {
     "data": {
      "text/plain": [
       "2x2 Array{Int64,2}:\n",
       " 225  225\n",
       " 225  225"
      ]
     },
     "execution_count": 4,
     "metadata": {},
     "output_type": "execute_result"
    }
   ],
   "source": [
    "(observed - expected).^2"
   ]
  },
  {
   "cell_type": "code",
   "execution_count": 5,
   "metadata": {
    "collapsed": false
   },
   "outputs": [
    {
     "data": {
      "text/plain": [
       "χ (generic function with 1 method)"
      ]
     },
     "execution_count": 5,
     "metadata": {},
     "output_type": "execute_result"
    }
   ],
   "source": [
    "χ(observed, expected) = sum((observed - expected).^2 ./ expected)"
   ]
  },
  {
   "cell_type": "code",
   "execution_count": 6,
   "metadata": {
    "collapsed": false
   },
   "outputs": [
    {
     "data": {
      "text/plain": [
       "4.464285714285714"
      ]
     },
     "execution_count": 6,
     "metadata": {},
     "output_type": "execute_result"
    }
   ],
   "source": [
    "χ(observed, expected)"
   ]
  },
  {
   "cell_type": "markdown",
   "metadata": {
    "collapsed": true
   },
   "source": [
    "## $\\chi^2 分布について$"
   ]
  },
  {
   "cell_type": "markdown",
   "metadata": {},
   "source": [
    "### ピンポン球実験\n",
    "白とオレンジのピンポン球が50個ずつ，そこから10個無作為に取り出す思考を考える．"
   ]
  },
  {
   "cell_type": "markdown",
   "metadata": {},
   "source": [
    "この場合，期待度数は白球5個とオレンジ球5個である．"
   ]
  },
  {
   "cell_type": "code",
   "execution_count": 13,
   "metadata": {
    "collapsed": false
   },
   "outputs": [],
   "source": [
    "expected = [5, 5];"
   ]
  },
  {
   "cell_type": "code",
   "execution_count": 22,
   "metadata": {
    "collapsed": false
   },
   "outputs": [
    {
     "name": "stdout",
     "output_type": "stream",
     "text": [
      "search: Binomial binomial PoissonBinomial NegativeBinomial BetaBinomial\n",
      "\n"
     ]
    },
    {
     "data": {
      "text/latex": [
       "\\begin{verbatim}\n",
       "Binomial(n,p)\n",
       "\\end{verbatim}\n",
       "A \\emph{Binomial distribution} characterizes the number of successes in a sequence of independent trials. It has two parameters: \\texttt{n}, the number of trials, and \\texttt{p}, the probability of success in an individual trial, with the distribution:\n",
       "$$P(X = k) = {n \\choose k}p^k(1-p)^{n-k},  \\quad \\text{ for } k = 0,1,2, \\ldots, n.$$\\begin{verbatim}\n",
       "Binomial()      # Binomial distribution with n = 1 and p = 0.5\n",
       "Binomial(n)     # Binomial distribution for n trials with success rate p = 0.5\n",
       "Binomial(n, p)  # Binomial distribution for n trials with success rate p\n",
       "\n",
       "params(d)       # Get the parameters, i.e. (n, p)\n",
       "ntrials(d)      # Get the number of trials, i.e. n\n",
       "succprob(d)     # Get the success rate, i.e. p\n",
       "failprob(d)     # Get the failure rate, i.e. 1 - p\n",
       "\\end{verbatim}\n",
       "External links:\n",
       "\\begin{itemize}\n",
       "\\item \\href{http://en.wikipedia.org/wiki/Binomial_distribution}{Binomial distribution on Wikipedia}\n",
       "\\end{itemize}\n"
      ],
      "text/markdown": [
       "```\n",
       "Binomial(n,p)\n",
       "```\n",
       "\n",
       "A *Binomial distribution* characterizes the number of successes in a sequence of independent trials. It has two parameters: `n`, the number of trials, and `p`, the probability of success in an individual trial, with the distribution:\n",
       "\n",
       "$P(X = k) = {n \\choose k}p^k(1-p)^{n-k},  \\quad \\text{ for } k = 0,1,2, \\ldots, n.$\n",
       "```julia\n",
       "Binomial()      # Binomial distribution with n = 1 and p = 0.5\n",
       "Binomial(n)     # Binomial distribution for n trials with success rate p = 0.5\n",
       "Binomial(n, p)  # Binomial distribution for n trials with success rate p\n",
       "\n",
       "params(d)       # Get the parameters, i.e. (n, p)\n",
       "ntrials(d)      # Get the number of trials, i.e. n\n",
       "succprob(d)     # Get the success rate, i.e. p\n",
       "failprob(d)     # Get the failure rate, i.e. 1 - p\n",
       "```\n",
       "\n",
       "External links:\n",
       "\n",
       "  * [Binomial distribution on Wikipedia](http://en.wikipedia.org/wiki/Binomial_distribution)\n"
      ],
      "text/plain": [
       "```\n",
       "Binomial(n,p)\n",
       "```\n",
       "\n",
       "A *Binomial distribution* characterizes the number of successes in a sequence of independent trials. It has two parameters: `n`, the number of trials, and `p`, the probability of success in an individual trial, with the distribution:\n",
       "\n",
       "$P(X = k) = {n \\choose k}p^k(1-p)^{n-k},  \\quad \\text{ for } k = 0,1,2, \\ldots, n.$\n",
       "```julia\n",
       "Binomial()      # Binomial distribution with n = 1 and p = 0.5\n",
       "Binomial(n)     # Binomial distribution for n trials with success rate p = 0.5\n",
       "Binomial(n, p)  # Binomial distribution for n trials with success rate p\n",
       "\n",
       "params(d)       # Get the parameters, i.e. (n, p)\n",
       "ntrials(d)      # Get the number of trials, i.e. n\n",
       "succprob(d)     # Get the success rate, i.e. p\n",
       "failprob(d)     # Get the failure rate, i.e. 1 - p\n",
       "```\n",
       "\n",
       "External links:\n",
       "\n",
       "  * [Binomial distribution on Wikipedia](http://en.wikipedia.org/wiki/Binomial_distribution)\n"
      ]
     },
     "execution_count": 22,
     "metadata": {},
     "output_type": "execute_result"
    }
   ],
   "source": [
    "?Binomial"
   ]
  },
  {
   "cell_type": "code",
   "execution_count": 34,
   "metadata": {
    "collapsed": false
   },
   "outputs": [
    {
     "data": {
      "text/plain": [
       "Distributions.Binomial(n=10, p=0.5)"
      ]
     },
     "execution_count": 34,
     "metadata": {},
     "output_type": "execute_result"
    }
   ],
   "source": [
    "binom_dist = Binomial(10, 1/2)"
   ]
  },
  {
   "cell_type": "code",
   "execution_count": 35,
   "metadata": {
    "collapsed": false
   },
   "outputs": [
    {
     "data": {
      "text/plain": [
       "11-element Array{Float64,1}:\n",
       " 0.000976563\n",
       " 0.00976563 \n",
       " 0.0439453  \n",
       " 0.117188   \n",
       " 0.205078   \n",
       " 0.246094   \n",
       " 0.205078   \n",
       " 0.117188   \n",
       " 0.0439453  \n",
       " 0.00976563 \n",
       " 0.000976563"
      ]
     },
     "execution_count": 35,
     "metadata": {},
     "output_type": "execute_result"
    }
   ],
   "source": [
    "binom_pdf = pdf(binom_dist)"
   ]
  },
  {
   "cell_type": "code",
   "execution_count": 42,
   "metadata": {
    "collapsed": false
   },
   "outputs": [
    {
     "name": "stdout",
     "output_type": "stream",
     "text": [
      "0.00.24609375000000003\n",
      "0.40.20507812499999997\n",
      "1.60.11718750000000014\n",
      "3.60.04394531249999996\n",
      "6.40.009765625000000002\n"
     ]
    },
    {
     "data": {
      "text/plain": [
       "5-element Array{Any,1}:\n",
       " 0.246094  \n",
       " 0.205078  \n",
       " 0.117188  \n",
       " 0.0439453 \n",
       " 0.00976563"
      ]
     },
     "execution_count": 42,
     "metadata": {},
     "output_type": "execute_result"
    }
   ],
   "source": [
    "χs = []\n",
    "probs = []\n",
    "obserbed = [5, 5]\n",
    "println(χ(obserbed, expected), pdf(binom_dist, 5))\n",
    "push!(χs, χ(obserbed, expected))\n",
    "push!(probs, pdf(binom_dist, 5))\n",
    "obserbed = [6, 4]\n",
    "println(χ(obserbed, expected), pdf(binom_dist, 6))\n",
    "push!(χs, χ(obserbed, expected))\n",
    "push!(probs, pdf(binom_dist, 6))\n",
    "obserbed = [7, 3]\n",
    "println(χ(obserbed, expected), pdf(binom_dist, 7))\n",
    "push!(χs, χ(obserbed, expected))\n",
    "push!(probs, pdf(binom_dist, 7))\n",
    "obserbed = [8, 2]\n",
    "println(χ(obserbed, expected), pdf(binom_dist, 8))\n",
    "push!(χs, χ(obserbed, expected))\n",
    "push!(probs, pdf(binom_dist, 8))\n",
    "obserbed = [9, 1]\n",
    "println(χ(obserbed, expected), pdf(binom_dist, 9))\n",
    "push!(χs, χ(obserbed, expected))\n",
    "push!(probs, pdf(binom_dist, 9))\n"
   ]
  },
  {
   "cell_type": "code",
   "execution_count": 46,
   "metadata": {
    "collapsed": false
   },
   "outputs": [
    {
     "data": {
      "image/png": "[encoded data removed]",
      "text/plain": [
       "PyPlot.Figure(PyObject <matplotlib.figure.Figure object at 0x32b13a410>)"
      ]
     },
     "metadata": {},
     "output_type": "display_data"
    },
    {
     "data": {
      "text/plain": [
       "PyObject <matplotlib.text.Text object at 0x32b186750>"
      ]
     },
     "execution_count": 46,
     "metadata": {},
     "output_type": "execute_result"
    }
   ],
   "source": [
    "plot(χs, probs)\n",
    "xlabel(\"probs\")\n",
    "ylabel(\"χ\")"
   ]
  },
  {
   "cell_type": "markdown",
   "metadata": {},
   "source": [
    "期待度数\n",
    "\n",
    "| お店/メニュ | ポテト  | チキン | 合計|\n",
    "|-------------|---------|--------|-----|\n",
    "| ワクワク | 420 | 180 | 600|\n",
    "| もぐもぐ | 280  | 120| 400|\n",
    "| 合計 | 700  | 300| 1000|\n",
    "\n",
    "観測度数\n",
    "\n",
    "| お店/メニュ | ポテト  | チキン | 合計|\n",
    "|-------------|---------|--------|-----|\n",
    "| ワクワク | 435 | 165 | 600|\n",
    "| もぐもぐ | 265  | 135| 400|\n",
    "| 合計 | 700  | 300| 1000|"
   ]
  },
  {
   "cell_type": "code",
   "execution_count": 60,
   "metadata": {
    "collapsed": false
   },
   "outputs": [
    {
     "data": {
      "text/plain": [
       "4.464285714285714"
      ]
     },
     "execution_count": 60,
     "metadata": {},
     "output_type": "execute_result"
    }
   ],
   "source": [
    "observed = [435 165; 265 135]\n",
    "expected = [420 180; 280 120]\n",
    "χ(observed, expected)"
   ]
  },
  {
   "cell_type": "markdown",
   "metadata": {},
   "source": [
    "自由度はポテトの売上げが決まるとチキンの売上が決まることから1"
   ]
  },
  {
   "cell_type": "code",
   "execution_count": 47,
   "metadata": {
    "collapsed": false
   },
   "outputs": [
    {
     "name": "stdout",
     "output_type": "stream",
     "text": [
      "search: Chisq NoncentralChisq clear_history searchsortedfirst\n",
      "\n"
     ]
    },
    {
     "data": {
      "text/latex": [
       "\\begin{verbatim}\n",
       "Chisq(ν)\n",
       "\\end{verbatim}\n",
       "The \\emph{Chi squared distribution} (typically written χ²) with \\texttt{ν} degrees of freedom has the probability density function\n",
       "$$f(x; k) = \\frac{x^{k/2 - 1} e^{-x/2}}{2^{k/2} \\Gamma(k/2)}, \\quad x > 0.$$If \\texttt{ν} is an integer, then it is the distribution of the sum of squares of \\texttt{ν} independent standard \\href{:func:`Normal`}{\\texttt{Normal}} variates.\n",
       "\\begin{verbatim}\n",
       "Chisq(k)     # Chi-squared distribution with k degrees of freedom\n",
       "\n",
       "params(d)    # Get the parameters, i.e. (k,)\n",
       "dof(d)       # Get the degrees of freedom, i.e. k\n",
       "\\end{verbatim}\n",
       "External links\n",
       "\\begin{itemize}\n",
       "\\item \\href{http://en.wikipedia.org/wiki/Chi-squared_distribution}{Chi-squared distribution on Wikipedia}\n",
       "\\end{itemize}\n"
      ],
      "text/markdown": [
       "```\n",
       "Chisq(ν)\n",
       "```\n",
       "\n",
       "The *Chi squared distribution* (typically written χ²) with `ν` degrees of freedom has the probability density function\n",
       "\n",
       "$f(x; k) = \\frac{x^{k/2 - 1} e^{-x/2}}{2^{k/2} \\Gamma(k/2)}, \\quad x > 0.$\n",
       "If `ν` is an integer, then it is the distribution of the sum of squares of `ν` independent standard [`Normal`](:func:`Normal`) variates.\n",
       "\n",
       "```julia\n",
       "Chisq(k)     # Chi-squared distribution with k degrees of freedom\n",
       "\n",
       "params(d)    # Get the parameters, i.e. (k,)\n",
       "dof(d)       # Get the degrees of freedom, i.e. k\n",
       "```\n",
       "\n",
       "External links\n",
       "\n",
       "  * [Chi-squared distribution on Wikipedia](http://en.wikipedia.org/wiki/Chi-squared_distribution)\n"
      ],
      "text/plain": [
       "```\n",
       "Chisq(ν)\n",
       "```\n",
       "\n",
       "The *Chi squared distribution* (typically written χ²) with `ν` degrees of freedom has the probability density function\n",
       "\n",
       "$f(x; k) = \\frac{x^{k/2 - 1} e^{-x/2}}{2^{k/2} \\Gamma(k/2)}, \\quad x > 0.$\n",
       "If `ν` is an integer, then it is the distribution of the sum of squares of `ν` independent standard [`Normal`](:func:`Normal`) variates.\n",
       "\n",
       "```julia\n",
       "Chisq(k)     # Chi-squared distribution with k degrees of freedom\n",
       "\n",
       "params(d)    # Get the parameters, i.e. (k,)\n",
       "dof(d)       # Get the degrees of freedom, i.e. k\n",
       "```\n",
       "\n",
       "External links\n",
       "\n",
       "  * [Chi-squared distribution on Wikipedia](http://en.wikipedia.org/wiki/Chi-squared_distribution)\n"
      ]
     },
     "execution_count": 47,
     "metadata": {},
     "output_type": "execute_result"
    }
   ],
   "source": [
    "?Chisq"
   ]
  },
  {
   "cell_type": "code",
   "execution_count": 48,
   "metadata": {
    "collapsed": false
   },
   "outputs": [
    {
     "data": {
      "text/plain": [
       "Distributions.Chisq(ν=1.0)"
      ]
     },
     "execution_count": 48,
     "metadata": {},
     "output_type": "execute_result"
    }
   ],
   "source": [
    "χdist = Chisq(1)"
   ]
  },
  {
   "cell_type": "code",
   "execution_count": 64,
   "metadata": {
    "collapsed": false
   },
   "outputs": [
    {
     "data": {
      "image/png": "[encoded data removed]",
      "text/plain": [
       "PyPlot.Figure(PyObject <matplotlib.figure.Figure object at 0x32c47a810>)"
      ]
     },
     "metadata": {},
     "output_type": "display_data"
    },
    {
     "data": {
      "text/plain": [
       "PyObject <matplotlib.collections.LineCollection object at 0x32b110a50>"
      ]
     },
     "execution_count": 64,
     "metadata": {},
     "output_type": "execute_result"
    }
   ],
   "source": [
    "plot(1:0.1:10, pdf(χdist, 1:0.1:10))\n",
    "vlines(χ(observed, expected), 0, pdf(χdist, χ(observed, expected)))"
   ]
  },
  {
   "cell_type": "markdown",
   "metadata": {},
   "source": [
    "χ(obserbed, expected)は3.84"
   ]
  },
  {
   "cell_type": "code",
   "execution_count": null,
   "metadata": {
    "collapsed": true
   },
   "outputs": [],
   "source": []
  }
 ],
 "metadata": {
  "kernelspec": {
   "display_name": "Julia 0.5.0",
   "language": "julia",
   "name": "julia-0.5"
  },
  "language_info": {
   "file_extension": ".jl",
   "mimetype": "application/julia",
   "name": "julia",
   "version": "0.5.0"
  },
  "toc": {
   "nav_menu": {
    "height": "49px",
    "width": "252px"
   },
   "navigate_menu": true,
   "number_sections": true,
   "sideBar": true,
   "threshold": 4,
   "toc_cell": false,
   "toc_section_display": "block",
   "toc_window_display": false
  }
 },
 "nbformat": 4,
 "nbformat_minor": 0
}
