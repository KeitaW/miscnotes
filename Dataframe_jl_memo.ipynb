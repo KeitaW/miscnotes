{
 "cells": [
  {
   "cell_type": "code",
   "execution_count": 1,
   "metadata": {
    "collapsed": false
   },
   "outputs": [
    {
     "name": "stderr",
     "output_type": "stream",
     "text": [
      "INFO: Recompiling stale cache file /Users/watanabekeita/.julia/lib/v0.4/Rmath.ji for module Rmath.\n",
      "INFO: Recompiling stale cache file /Users/watanabekeita/.julia/lib/v0.4/DataFrames.ji for module DataFrames.\n",
      "INFO: Recompiling stale cache file /Users/watanabekeita/.julia/lib/v0.4/StatsBase.ji for module StatsBase.\n",
      "INFO: Recompiling stale cache file /Users/watanabekeita/.julia/lib/v0.4/StatsFuns.ji for module StatsFuns.\n",
      "INFO: Recompiling stale cache file /Users/watanabekeita/.julia/lib/v0.4/DataArrays.ji for module DataArrays.\n",
      "INFO: Recompiling stale cache file /Users/watanabekeita/.julia/lib/v0.4/SortingAlgorithms.ji for module SortingAlgorithms.\n",
      "INFO: Recompiling stale cache file /Users/watanabekeita/.julia/lib/v0.4/LaTeXStrings.ji for module LaTeXStrings.\n",
      "INFO: Recompiling stale cache file /Users/watanabekeita/.julia/lib/v0.4/PyPlot.ji for module PyPlot.\n",
      "INFO: Recompiling stale cache file /Users/watanabekeita/.julia/lib/v0.4/PyCall.ji for module PyCall.\n",
      "/Users/watanabekeita/.julia/v0.4/Conda/deps/usr/lib/python2.7/site-packages/matplotlib/font_manager.py:273: UserWarning: Matplotlib is building the font cache using fc-list. This may take a moment.\n",
      "  warnings.warn('Matplotlib is building the font cache using fc-list. This may take a moment.')\n"
     ]
    }
   ],
   "source": [
    "using DataFrames\n",
    "using PyPlot\n",
    "using PyCall"
   ]
  },
  {
   "cell_type": "code",
   "execution_count": 2,
   "metadata": {
    "collapsed": false
   },
   "outputs": [],
   "source": [
    "@pyimport seaborn as sns"
   ]
  },
  {
   "cell_type": "code",
   "execution_count": 6,
   "metadata": {
    "collapsed": false
   },
   "outputs": [
    {
     "data": {
      "text/plain": [
       "NA"
      ]
     },
     "execution_count": 6,
     "metadata": {},
     "output_type": "execute_result"
    }
   ],
   "source": [
    "NA"
   ]
  },
  {
   "cell_type": "code",
   "execution_count": 10,
   "metadata": {
    "collapsed": true
   },
   "outputs": [],
   "source": [
    "# how to deal with NA\n",
    "dv = @data([NA, 3, 2, 5, 4])\n",
    "convert(Array, dv, 11)"
   ]
  },
  {
   "cell_type": "code",
   "execution_count": 9,
   "metadata": {
    "collapsed": false
   },
   "outputs": [
    {
     "data": {
      "text/html": [
       "<table class=\"data-frame\"><tr><th></th><th>A</th><th>B</th></tr><tr><th>1</th><td>1</td><td>M</td></tr><tr><th>2</th><td>2</td><td>F</td></tr><tr><th>3</th><td>3</td><td>F</td></tr><tr><th>4</th><td>4</td><td>M</td></tr></table>"
      ],
      "text/plain": [
       "4×2 DataFrames.DataFrame\n",
       "│ Row │ A │ B   │\n",
       "├─────┼───┼─────┤\n",
       "│ 1   │ 1 │ \"M\" │\n",
       "│ 2   │ 2 │ \"F\" │\n",
       "│ 3   │ 3 │ \"F\" │\n",
       "│ 4   │ 4 │ \"M\" │"
      ]
     },
     "execution_count": 9,
     "metadata": {},
     "output_type": "execute_result"
    }
   ],
   "source": [
    "# Creation of Dataframe\n",
    "df = DataFrame(A = 1:4, B = [\"M\", \"F\", \"F\", \"M\"])"
   ]
  },
  {
   "cell_type": "code",
   "execution_count": 13,
   "metadata": {
    "collapsed": false
   },
   "outputs": [
    {
     "data": {
      "text/html": [
       "<table class=\"data-frame\"><tr><th></th><th>A</th><th>B</th></tr><tr><th>1</th><td>1</td><td>M</td></tr><tr><th>2</th><td>2</td><td>F</td></tr><tr><th>3</th><td>3</td><td>F</td></tr><tr><th>4</th><td>4</td><td>M</td></tr><tr><th>5</th><td>5</td><td>F</td></tr><tr><th>6</th><td>6</td><td>M</td></tr><tr><th>7</th><td>7</td><td>M</td></tr><tr><th>8</th><td>8</td><td>F</td></tr></table>"
      ],
      "text/plain": [
       "8×2 DataFrames.DataFrame\n",
       "│ Row │ A │ B   │\n",
       "├─────┼───┼─────┤\n",
       "│ 1   │ 1 │ \"M\" │\n",
       "│ 2   │ 2 │ \"F\" │\n",
       "│ 3   │ 3 │ \"F\" │\n",
       "│ 4   │ 4 │ \"M\" │\n",
       "│ 5   │ 5 │ \"F\" │\n",
       "│ 6   │ 6 │ \"M\" │\n",
       "│ 7   │ 7 │ \"M\" │\n",
       "│ 8   │ 8 │ \"F\" │"
      ]
     },
     "execution_count": 13,
     "metadata": {},
     "output_type": "execute_result"
    }
   ],
   "source": [
    "# or\n",
    "df = DataFrame()\n",
    "df[:A] = 1:8\n",
    "df[:B] = [\"M\", \"F\", \"F\", \"M\", \"F\", \"M\", \"M\", \"F\"]\n",
    "df"
   ]
  },
  {
   "cell_type": "code",
   "execution_count": 15,
   "metadata": {
    "collapsed": false
   },
   "outputs": [
    {
     "name": "stdout",
     "output_type": "stream",
     "text": [
      "(nrows,ncols) = (8,2)\n"
     ]
    },
    {
     "data": {
      "text/plain": [
       "(8,2)"
      ]
     },
     "execution_count": 15,
     "metadata": {},
     "output_type": "execute_result"
    }
   ],
   "source": [
    "nrows = size(df, 1)\n",
    "ncols = size(df, 2)\n",
    "@show nrows, ncols"
   ]
  },
  {
   "cell_type": "code",
   "execution_count": 18,
   "metadata": {
    "collapsed": false
   },
   "outputs": [
    {
     "data": {
      "text/html": [
       "<table class=\"data-frame\"><tr><th></th><th>A</th><th>B</th></tr><tr><th>1</th><td>1</td><td>M</td></tr><tr><th>2</th><td>2</td><td>F</td></tr></table>"
      ],
      "text/plain": [
       "2×2 DataFrames.DataFrame\n",
       "│ Row │ A │ B   │\n",
       "├─────┼───┼─────┤\n",
       "│ 1   │ 1 │ \"M\" │\n",
       "│ 2   │ 2 │ \"F\" │"
      ]
     },
     "execution_count": 18,
     "metadata": {},
     "output_type": "execute_result"
    }
   ],
   "source": [
    "head(df, 2)"
   ]
  },
  {
   "cell_type": "code",
   "execution_count": 19,
   "metadata": {
    "collapsed": false
   },
   "outputs": [
    {
     "data": {
      "text/html": [
       "<table class=\"data-frame\"><tr><th></th><th>A</th><th>B</th></tr><tr><th>1</th><td>7</td><td>M</td></tr><tr><th>2</th><td>8</td><td>F</td></tr></table>"
      ],
      "text/plain": [
       "2×2 DataFrames.DataFrame\n",
       "│ Row │ A │ B   │\n",
       "├─────┼───┼─────┤\n",
       "│ 1   │ 7 │ \"M\" │\n",
       "│ 2   │ 8 │ \"F\" │"
      ]
     },
     "execution_count": 19,
     "metadata": {},
     "output_type": "execute_result"
    }
   ],
   "source": [
    "tail(df, 2)"
   ]
  },
  {
   "cell_type": "code",
   "execution_count": 20,
   "metadata": {
    "collapsed": false
   },
   "outputs": [
    {
     "name": "stdout",
     "output_type": "stream",
     "text": [
      "A\n",
      "Min      1.0\n",
      "1st Qu.  2.75\n",
      "Median   4.5\n",
      "Mean     4.5\n",
      "3rd Qu.  6.25\n",
      "Max      8.0\n",
      "NAs      0\n",
      "NA%      0.0%\n",
      "\n",
      "B\n",
      "Length  8\n",
      "Type    ASCIIString\n",
      "NAs     0\n",
      "NA%     0.0%\n",
      "Unique  2\n",
      "\n"
     ]
    }
   ],
   "source": [
    "describe(df)"
   ]
  },
  {
   "cell_type": "code",
   "execution_count": 22,
   "metadata": {
    "collapsed": false
   },
   "outputs": [
    {
     "name": "stdout",
     "output_type": "stream",
     "text": [
      "(df[1],df[2]) = ([1,2,3,4,5,6,7,8],ASCIIString[\"M\",\"F\",\"F\",\"M\",\"F\",\"M\",\"M\",\"F\"])\n"
     ]
    },
    {
     "data": {
      "text/plain": [
       "([1,2,3,4,5,6,7,8],ASCIIString[\"M\",\"F\",\"F\",\"M\",\"F\",\"M\",\"M\",\"F\"])"
      ]
     },
     "execution_count": 22,
     "metadata": {},
     "output_type": "execute_result"
    }
   ],
   "source": [
    "@show df[1], df[2]"
   ]
  },
  {
   "cell_type": "code",
   "execution_count": 27,
   "metadata": {
    "collapsed": false
   },
   "outputs": [
    {
     "data": {
      "text/html": [
       "<table class=\"data-frame\"><tr><th></th><th>A</th><th>B</th></tr><tr><th>1</th><td>1</td><td>0.2600507583827116</td></tr><tr><th>2</th><td>2</td><td>0.6733669819967014</td></tr><tr><th>3</th><td>3</td><td>-0.6858678881846275</td></tr><tr><th>4</th><td>4</td><td>0.3062560613020635</td></tr></table>"
      ],
      "text/plain": [
       "4×2 DataFrames.DataFrame\n",
       "│ Row │ A │ B         │\n",
       "├─────┼───┼───────────┤\n",
       "│ 1   │ 1 │ 0.260051  │\n",
       "│ 2   │ 2 │ 0.673367  │\n",
       "│ 3   │ 3 │ -0.685868 │\n",
       "│ 4   │ 4 │ 0.306256  │"
      ]
     },
     "execution_count": 27,
     "metadata": {},
     "output_type": "execute_result"
    }
   ],
   "source": [
    "df = DataFrame(A = 1:4, B = randn(4))\n",
    "df"
   ]
  },
  {
   "cell_type": "code",
   "execution_count": 29,
   "metadata": {
    "collapsed": false
   },
   "outputs": [
    {
     "name": "stdout",
     "output_type": "stream",
     "text": [
      "colwise(cumsum,df) = Any[[1,3,6,10],[0.2600507583827116,0.933417740379413,0.24754985219478554,0.553805913496849]]\n"
     ]
    }
   ],
   "source": [
    "@show colwise(cumsum, df);"
   ]
  },
  {
   "cell_type": "code",
   "execution_count": 31,
   "metadata": {
    "collapsed": false
   },
   "outputs": [
    {
     "name": "stderr",
     "output_type": "stream",
     "text": [
      "INFO: Cloning cache of RDatasets from git://github.com/johnmyleswhite/RDatasets.jl.git\n",
      "fatal: Unable to look up github.com (port 9418) (nodename nor servname provided, or not known)\n"
     ]
    },
    {
     "ename": "LoadError",
     "evalue": "LoadError: failed process: Process(`git clone -q --mirror git://github.com/johnmyleswhite/RDatasets.jl.git /Users/watanabekeita/.julia/v0.4/.cache/RDatasets`, ProcessExited(128)) [128]\n in pipeline_error at process.jl:555\n in run at process.jl:531\n in prefetch at pkg/cache.jl:33\n in resolve at /Applications/Julia-0.4.5.app/Contents/Resources/julia/lib/julia/sys.dylib\n in edit at pkg/entry.jl:26\n in anonymous at task.jl:447\nwhile loading In[31], in expression starting on line 1",
     "output_type": "error",
     "traceback": [
      "LoadError: failed process: Process(`git clone -q --mirror git://github.com/johnmyleswhite/RDatasets.jl.git /Users/watanabekeita/.julia/v0.4/.cache/RDatasets`, ProcessExited(128)) [128]\n in pipeline_error at process.jl:555\n in run at process.jl:531\n in prefetch at pkg/cache.jl:33\n in resolve at /Applications/Julia-0.4.5.app/Contents/Resources/julia/lib/julia/sys.dylib\n in edit at pkg/entry.jl:26\n in anonymous at task.jl:447\nwhile loading In[31], in expression starting on line 1",
      "",
      " in sync_end at /Applications/Julia-0.4.5.app/Contents/Resources/julia/lib/julia/sys.dylib",
      " [inlined code] from task.jl:422",
      " in add at pkg/entry.jl:64",
      " in add at pkg/entry.jl:73",
      " in anonymous at pkg/dir.jl:31",
      " in cd at file.jl:22",
      " in cd at pkg/dir.jl:31",
      " in add at pkg.jl:23"
     ]
    }
   ],
   "source": [
    "Pkg.add(\"RDatasets\")"
   ]
  },
  {
   "cell_type": "code",
   "execution_count": 32,
   "metadata": {
    "collapsed": false
   },
   "outputs": [
    {
     "data": {
      "text/html": [
       "<table class=\"data-frame\"><tr><th></th><th>SepalLength</th><th>SepalWidth</th><th>PetalLength</th><th>PetalWidth</th><th>Species</th></tr><tr><th>1</th><td>5.1</td><td>3.5</td><td>1.4</td><td>0.2</td><td>setosa</td></tr><tr><th>2</th><td>4.9</td><td>3.0</td><td>1.4</td><td>0.2</td><td>setosa</td></tr><tr><th>3</th><td>4.7</td><td>3.2</td><td>1.3</td><td>0.2</td><td>setosa</td></tr><tr><th>4</th><td>4.6</td><td>3.1</td><td>1.5</td><td>0.2</td><td>setosa</td></tr><tr><th>5</th><td>5.0</td><td>3.6</td><td>1.4</td><td>0.2</td><td>setosa</td></tr><tr><th>6</th><td>5.4</td><td>3.9</td><td>1.7</td><td>0.4</td><td>setosa</td></tr></table>"
      ],
      "text/plain": [
       "6×5 DataFrames.DataFrame\n",
       "│ Row │ SepalLength │ SepalWidth │ PetalLength │ PetalWidth │ Species  │\n",
       "├─────┼─────────────┼────────────┼─────────────┼────────────┼──────────┤\n",
       "│ 1   │ 5.1         │ 3.5        │ 1.4         │ 0.2        │ \"setosa\" │\n",
       "│ 2   │ 4.9         │ 3.0        │ 1.4         │ 0.2        │ \"setosa\" │\n",
       "│ 3   │ 4.7         │ 3.2        │ 1.3         │ 0.2        │ \"setosa\" │\n",
       "│ 4   │ 4.6         │ 3.1        │ 1.5         │ 0.2        │ \"setosa\" │\n",
       "│ 5   │ 5.0         │ 3.6        │ 1.4         │ 0.2        │ \"setosa\" │\n",
       "│ 6   │ 5.4         │ 3.9        │ 1.7         │ 0.4        │ \"setosa\" │"
      ]
     },
     "execution_count": 32,
     "metadata": {},
     "output_type": "execute_result"
    }
   ],
   "source": [
    "using RDatasets\n",
    "iris = dataset(\"datasets\", \"iris\")\n",
    "head(iris)"
   ]
  },
  {
   "cell_type": "code",
   "execution_count": 35,
   "metadata": {
    "collapsed": false
   },
   "outputs": [
    {
     "data": {
      "text/plain": [
       "3-element Array{Int64,1}:\n",
       " 4\n",
       " 6\n",
       " 8"
      ]
     },
     "execution_count": 35,
     "metadata": {},
     "output_type": "execute_result"
    }
   ],
   "source": [
    "a = [1, 2, 3]\n",
    "b = [3, 4, 5]\n",
    "a + b"
   ]
  },
  {
   "cell_type": "code",
   "execution_count": null,
   "metadata": {
    "collapsed": true
   },
   "outputs": [],
   "source": []
  }
 ],
 "metadata": {
  "kernelspec": {
   "display_name": "Julia 0.4.5",
   "language": "julia",
   "name": "julia-0.4"
  },
  "language_info": {
   "file_extension": ".jl",
   "mimetype": "application/julia",
   "name": "julia",
   "version": "0.4.5"
  }
 },
 "nbformat": 4,
 "nbformat_minor": 0
}
