{
 "cells": [
  {
   "cell_type": "code",
   "execution_count": 130,
   "metadata": {
    "collapsed": true
   },
   "outputs": [],
   "source": [
    "using Base.Iterators\n",
    "using Base.Test"
   ]
  },
  {
   "cell_type": "markdown",
   "metadata": {},
   "source": [
    "http://mccormickml.com/2016/04/19/word2vec-tutorial-the-skip-gram-model/\n",
    "を参考にWord2VecについてJuliaを用いて理解する"
   ]
  },
  {
   "cell_type": "code",
   "execution_count": 28,
   "metadata": {
    "collapsed": false
   },
   "outputs": [
    {
     "data": {
      "text/plain": [
       "\"The quick brown fox jumps over the lazy dog.\""
      ]
     },
     "execution_count": 28,
     "metadata": {},
     "output_type": "execute_result"
    }
   ],
   "source": [
    "text = \"The quick brown fox jumps over the lazy dog.\""
   ]
  },
  {
   "cell_type": "code",
   "execution_count": 34,
   "metadata": {
    "collapsed": false
   },
   "outputs": [
    {
     "name": "stdout",
     "output_type": "stream",
     "text": [
      "splitted_text = SubString{String}[\"the\", \"quick\", \"brown\", \"fox\", \"jumps\", \"over\", \"the\", \"lazy\", \"dog\"]\n"
     ]
    }
   ],
   "source": [
    "remove_period = (text) -> replace(text, \".\", \"\")\n",
    "split_space = (text) -> split(text, \" \")\n",
    "splitted_text = text |> lowercase |> remove_period |> split_space\n",
    "@show splitted_text;"
   ]
  },
  {
   "cell_type": "markdown",
   "metadata": {},
   "source": [
    "ある単語の前後２単語を周辺語として取ってくる"
   ]
  },
  {
   "cell_type": "code",
   "execution_count": 89,
   "metadata": {
    "collapsed": false
   },
   "outputs": [
    {
     "data": {
      "text/plain": [
       "(::#235) (generic function with 1 method)"
      ]
     },
     "execution_count": 89,
     "metadata": {},
     "output_type": "execute_result"
    }
   ],
   "source": [
    "remove_zero = (range) -> range[range .!= 0]\n",
    "remove_negative = (range) -> range[range .> 0]\n",
    "limit_range = (maxlength) -> (range) -> range[range .<= maxlength]\n",
    "slide_window = (i) -> (range) -> range + i\n",
    "sample = function (window)\n",
    "    range = -window:window\n",
    "    return (maxlength) -> (i) -> range |> remove_zero |> \n",
    "    slide_window(i) |> remove_negeative |> limit_range(maxlength)\n",
    "end"
   ]
  },
  {
   "cell_type": "code",
   "execution_count": 134,
   "metadata": {
    "collapsed": false
   },
   "outputs": [
    {
     "data": {
      "text/plain": [
       "(::#319) (generic function with 1 method)"
      ]
     },
     "execution_count": 134,
     "metadata": {},
     "output_type": "execute_result"
    }
   ],
   "source": [
    "pos = 1\n",
    "gen_tsample = (window) -> function(splitted_text) \n",
    "    sample_ = sample(window)(length(splitted_text))\n",
    "    function (pos) \n",
    "        sample_indices = sample_(pos)\n",
    "        sample2 = splitted_text[sample_indices]\n",
    "        tsamples = []\n",
    "        for sample in sample2 push!(tsamples, [splitted_text[pos], sample]) end\n",
    "        return tsamples\n",
    "    end\n",
    "end"
   ]
  },
  {
   "cell_type": "code",
   "execution_count": 136,
   "metadata": {
    "collapsed": false
   },
   "outputs": [
    {
     "data": {
      "text/plain": [
       "(::#329) (generic function with 1 method)"
      ]
     },
     "execution_count": 136,
     "metadata": {},
     "output_type": "execute_result"
    }
   ],
   "source": [
    "gen_tsamples = (window) -> function (splitted_text)\n",
    "    sample_generator = gen_tsample(window)(splitted_text)\n",
    "    [sample_generator(pos) for pos in 1:length(splitted_text)] |> flatten\n",
    "end"
   ]
  },
  {
   "cell_type": "code",
   "execution_count": 139,
   "metadata": {
    "collapsed": false
   },
   "outputs": [
    {
     "name": "stdout",
     "output_type": "stream",
     "text": [
      "X_train = Base.Iterators.Flatten{Array{Array{Any,1},1}}(Array{Any,1}[Any[SubString{String}[\"the\", \"quick\"], SubString{String}[\"the\", \"brown\"]], Any[SubString{String}[\"quick\", \"the\"], SubString{String}[\"quick\", \"brown\"], SubString{String}[\"quick\", \"fox\"]], Any[SubString{String}[\"brown\", \"the\"], SubString{String}[\"brown\", \"quick\"], SubString{String}[\"brown\", \"fox\"], SubString{String}[\"brown\", \"jumps\"]], Any[SubString{String}[\"fox\", \"quick\"], SubString{String}[\"fox\", \"brown\"], SubString{String}[\"fox\", \"jumps\"], SubString{String}[\"fox\", \"over\"]], Any[SubString{String}[\"jumps\", \"brown\"], SubString{String}[\"jumps\", \"fox\"], SubString{String}[\"jumps\", \"over\"], SubString{String}[\"jumps\", \"the\"]], Any[SubString{String}[\"over\", \"fox\"], SubString{String}[\"over\", \"jumps\"], SubString{String}[\"over\", \"the\"], SubString{String}[\"over\", \"lazy\"]], Any[SubString{String}[\"the\", \"jumps\"], SubString{String}[\"the\", \"over\"], SubString{String}[\"the\", \"lazy\"], SubString{String}[\"the\", \"dog\"]], Any[SubString{String}[\"lazy\", \"over\"], SubString{String}[\"lazy\", \"the\"], SubString{String}[\"lazy\", \"dog\"]], Any[SubString{String}[\"dog\", \"the\"], SubString{String}[\"dog\", \"lazy\"]]])\n"
     ]
    }
   ],
   "source": [
    "X_train = gen_tsamples(2)(splitted_text)\n",
    "@show X_train;"
   ]
  },
  {
   "cell_type": "markdown",
   "metadata": {},
   "source": [
    "# Model Details"
   ]
  },
  {
   "cell_type": "markdown",
   "metadata": {},
   "source": [
    "![](http://mccormickml.com/assets/word2vec/skip_gram_net_arch.png)"
   ]
  },
  {
   "cell_type": "code",
   "execution_count": null,
   "metadata": {
    "collapsed": true
   },
   "outputs": [],
   "source": []
  }
 ],
 "metadata": {
  "kernelspec": {
   "display_name": "Julia 0.6.0",
   "language": "julia",
   "name": "julia-0.6"
  },
  "language_info": {
   "file_extension": ".jl",
   "mimetype": "application/julia",
   "name": "julia",
   "version": "0.6.0"
  },
  "nav_menu": {},
  "toc": {
   "navigate_menu": true,
   "number_sections": true,
   "sideBar": true,
   "threshold": 6,
   "toc_cell": false,
   "toc_section_display": "block",
   "toc_window_display": false
  }
 },
 "nbformat": 4,
 "nbformat_minor": 2
}
